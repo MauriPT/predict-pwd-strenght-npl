{
 "cells": [
  {
   "cell_type": "code",
   "execution_count": 59,
   "metadata": {},
   "outputs": [],
   "source": [
    "# import libraries\n",
    "\n",
    "import pandas as pd\n",
    "import numpy as np\n",
    "import matplotlib.pyplot as plt\n",
    "import seaborn as sns\n",
    "\n",
    "import sqlite3\n",
    "\n",
    "import string"
   ]
  },
  {
   "cell_type": "markdown",
   "metadata": {},
   "source": [
    "<h1>DATA COLLECTION</h1>"
   ]
  },
  {
   "cell_type": "code",
   "execution_count": 60,
   "metadata": {},
   "outputs": [],
   "source": [
    "# connect to the database file\n",
    "db_con = sqlite3.connect(r'/Users/jmc/GitHub/predict-pwd-strenght-npl/database/password_data.sqlite')"
   ]
  },
  {
   "cell_type": "code",
   "execution_count": 61,
   "metadata": {},
   "outputs": [],
   "source": [
    "df = pd.read_sql_query('SELECT * FROM Users', db_con)"
   ]
  },
  {
   "cell_type": "markdown",
   "metadata": {},
   "source": [
    "<h1>DATA CLEANING</h1>"
   ]
  },
  {
   "cell_type": "code",
   "execution_count": 62,
   "metadata": {},
   "outputs": [
    {
     "data": {
      "text/html": [
       "<div>\n",
       "<style scoped>\n",
       "    .dataframe tbody tr th:only-of-type {\n",
       "        vertical-align: middle;\n",
       "    }\n",
       "\n",
       "    .dataframe tbody tr th {\n",
       "        vertical-align: top;\n",
       "    }\n",
       "\n",
       "    .dataframe thead th {\n",
       "        text-align: right;\n",
       "    }\n",
       "</style>\n",
       "<table border=\"1\" class=\"dataframe\">\n",
       "  <thead>\n",
       "    <tr style=\"text-align: right;\">\n",
       "      <th></th>\n",
       "      <th>index</th>\n",
       "      <th>password</th>\n",
       "      <th>strength</th>\n",
       "    </tr>\n",
       "  </thead>\n",
       "  <tbody>\n",
       "    <tr>\n",
       "      <th>0</th>\n",
       "      <td>0</td>\n",
       "      <td>zxe870819</td>\n",
       "      <td>1</td>\n",
       "    </tr>\n",
       "    <tr>\n",
       "      <th>1</th>\n",
       "      <td>1</td>\n",
       "      <td>xw46454nr23l</td>\n",
       "      <td>1</td>\n",
       "    </tr>\n",
       "  </tbody>\n",
       "</table>\n",
       "</div>"
      ],
      "text/plain": [
       "   index      password  strength\n",
       "0      0     zxe870819         1\n",
       "1      1  xw46454nr23l         1"
      ]
     },
     "execution_count": 62,
     "metadata": {},
     "output_type": "execute_result"
    }
   ],
   "source": [
    "df.head(2)"
   ]
  },
  {
   "cell_type": "code",
   "execution_count": 63,
   "metadata": {},
   "outputs": [],
   "source": [
    "df.drop(['index'], axis=1, inplace=True)"
   ]
  },
  {
   "cell_type": "code",
   "execution_count": 64,
   "metadata": {},
   "outputs": [
    {
     "data": {
      "text/plain": [
       "0"
      ]
     },
     "execution_count": 64,
     "metadata": {},
     "output_type": "execute_result"
    }
   ],
   "source": [
    "# check for duplicates\n",
    "df.duplicated().sum()"
   ]
  },
  {
   "cell_type": "code",
   "execution_count": 65,
   "metadata": {},
   "outputs": [
    {
     "data": {
      "text/plain": [
       "password    0\n",
       "strength    0\n",
       "dtype: int64"
      ]
     },
     "execution_count": 65,
     "metadata": {},
     "output_type": "execute_result"
    }
   ],
   "source": [
    "# check for missing values\n",
    "df.isnull().sum()"
   ]
  },
  {
   "cell_type": "code",
   "execution_count": 66,
   "metadata": {},
   "outputs": [
    {
     "data": {
      "text/plain": [
       "password    object\n",
       "strength     int64\n",
       "dtype: object"
      ]
     },
     "execution_count": 66,
     "metadata": {},
     "output_type": "execute_result"
    }
   ],
   "source": [
    "# check the types of the features\n",
    "df.dtypes"
   ]
  },
  {
   "cell_type": "code",
   "execution_count": 67,
   "metadata": {},
   "outputs": [
    {
     "data": {
      "text/plain": [
       "array([1, 2, 0])"
      ]
     },
     "execution_count": 67,
     "metadata": {},
     "output_type": "execute_result"
    }
   ],
   "source": [
    "# check if there's any row with negative strenght\n",
    "df['strength'].unique()"
   ]
  },
  {
   "cell_type": "markdown",
   "metadata": {},
   "source": [
    "<h1>DATA ANALYSIS</h1>"
   ]
  },
  {
   "cell_type": "markdown",
   "metadata": {},
   "source": [
    "Semantic analysis"
   ]
  },
  {
   "cell_type": "code",
   "execution_count": 68,
   "metadata": {},
   "outputs": [
    {
     "data": {
      "text/plain": [
       "26"
      ]
     },
     "execution_count": 68,
     "metadata": {},
     "output_type": "execute_result"
    }
   ],
   "source": [
    "# how many passwords only have numeric characters?\n",
    "df['password'].str.isnumeric().sum()"
   ]
  },
  {
   "cell_type": "code",
   "execution_count": 69,
   "metadata": {},
   "outputs": [
    {
     "data": {
      "text/plain": [
       "1506"
      ]
     },
     "execution_count": 69,
     "metadata": {},
     "output_type": "execute_result"
    }
   ],
   "source": [
    "# how many passwords only have Upper-case characters?\n",
    "df['password'].str.isupper().sum()"
   ]
  },
  {
   "cell_type": "code",
   "execution_count": 70,
   "metadata": {},
   "outputs": [
    {
     "data": {
      "text/plain": [
       "50"
      ]
     },
     "execution_count": 70,
     "metadata": {},
     "output_type": "execute_result"
    }
   ],
   "source": [
    "# how many passwords have alpha characters?\n",
    "df['password'].str.isalpha().sum()"
   ]
  },
  {
   "cell_type": "code",
   "execution_count": 71,
   "metadata": {},
   "outputs": [
    {
     "data": {
      "text/plain": [
       "97203"
      ]
     },
     "execution_count": 71,
     "metadata": {},
     "output_type": "execute_result"
    }
   ],
   "source": [
    "# how many passwords have alphanumeric characters?\n",
    "df['password'].str.isalnum().sum()"
   ]
  },
  {
   "cell_type": "code",
   "execution_count": 72,
   "metadata": {},
   "outputs": [
    {
     "data": {
      "text/plain": [
       "932"
      ]
     },
     "execution_count": 72,
     "metadata": {},
     "output_type": "execute_result"
    }
   ],
   "source": [
    "# how many passwords have title-case characters?\n",
    "df['password'].str.istitle().sum()"
   ]
  },
  {
   "cell_type": "code",
   "execution_count": 73,
   "metadata": {},
   "outputs": [],
   "source": [
    "# how many passwords have special characters?\n",
    "def get_special_char_pwd(row):\n",
    "    for char in row:\n",
    "        if char in string.punctuation:\n",
    "            return 1\n",
    "        else:\n",
    "            pass"
   ]
  },
  {
   "cell_type": "code",
   "execution_count": 74,
   "metadata": {},
   "outputs": [
    {
     "data": {
      "text/plain": [
       "(2663, 2)"
      ]
     },
     "execution_count": 74,
     "metadata": {},
     "output_type": "execute_result"
    }
   ],
   "source": [
    "df[df['password'].apply(get_special_char_pwd)==1].shape"
   ]
  },
  {
   "cell_type": "markdown",
   "metadata": {},
   "source": [
    "<h1>FEATURE ENGINEERING</h1>"
   ]
  },
  {
   "cell_type": "markdown",
   "metadata": {},
   "source": [
    "What are the factors that can impact the strenght of a password? those factors are going to be our features to train our ml model\n",
    "Factors I'll be using:\n",
    "- length\n",
    "- lower frequency\n",
    "- upper frequency\n",
    "- digit frequency\n",
    "- special character frequency"
   ]
  },
  {
   "cell_type": "code",
   "execution_count": 75,
   "metadata": {},
   "outputs": [],
   "source": [
    "# length\n",
    "df['length'] = df['password'].str.len()"
   ]
  },
  {
   "cell_type": "code",
   "execution_count": 76,
   "metadata": {},
   "outputs": [],
   "source": [
    "# lower frequency\n",
    "def get_lower_freq(row):\n",
    "    return len([char for char in row if char.islower()])/len(row)\n",
    "\n",
    "df['lower_freq'] = np.round(df['password'].apply(get_lower_freq),3)"
   ]
  },
  {
   "cell_type": "code",
   "execution_count": 77,
   "metadata": {},
   "outputs": [],
   "source": [
    "# upper frequency\n",
    "def get_upper_freq(row):\n",
    "    return len([char for char in row if char.isupper()])/len(row)\n",
    "\n",
    "df['upper_freq'] = np.round(df['password'].apply(get_upper_freq),3)"
   ]
  },
  {
   "cell_type": "code",
   "execution_count": 78,
   "metadata": {},
   "outputs": [],
   "source": [
    "# lower frequency\n",
    "def get_digit_freq(row):\n",
    "    return len([char for char in row if char.isdigit()])/len(row)\n",
    "\n",
    "df['digit_freq'] = np.round(df['password'].apply(get_digit_freq),3)"
   ]
  },
  {
   "cell_type": "code",
   "execution_count": 79,
   "metadata": {},
   "outputs": [],
   "source": [
    "# special character frequency\n",
    "def get_special_char_freq(row):\n",
    "    return len([char for char in row if char in string.punctuation])/len(row)\n",
    "\n",
    "df['special_char_freq'] = np.round(df['password'].apply(get_special_char_freq),3)"
   ]
  },
  {
   "cell_type": "markdown",
   "metadata": {},
   "source": [
    "<h1>DATA ANALYSIS ON FEATURES CREATED</h1>"
   ]
  },
  {
   "cell_type": "markdown",
   "metadata": {},
   "source": [
    "Descriptive Statistics on new features"
   ]
  },
  {
   "cell_type": "code",
   "execution_count": 107,
   "metadata": {},
   "outputs": [],
   "source": [
    "new_features = ['length', 'lower_freq', 'upper_freq',\n",
    "       'digit_freq', 'special_char_freq']"
   ]
  },
  {
   "cell_type": "code",
   "execution_count": 112,
   "metadata": {},
   "outputs": [
    {
     "name": "stdout",
     "output_type": "stream",
     "text": [
      "length Analysis:\n",
      "            count       mean       std   min   25%   50%   75%    max\n",
      "strength                                                             \n",
      "0         13622.0   6.550947  0.509951   1.0   6.0   7.0   7.0    7.0\n",
      "1         73883.0   9.611074  1.338700   8.0   9.0   9.0  10.0   13.0\n",
      "2         12495.0  15.953421  2.560660  14.0  15.0  16.0  16.0  220.0\n",
      "\n",
      "\n",
      "lower_freq Analysis:\n",
      "            count      mean       std  min    25%    50%    75%    max\n",
      "strength                                                              \n",
      "0         13622.0  0.708050  0.181488  0.0  0.667  0.714  0.857  1.000\n",
      "1         73883.0  0.630067  0.217204  0.0  0.556  0.667  0.778  0.923\n",
      "2         12495.0  0.424679  0.166605  0.0  0.312  0.400  0.500  0.917\n",
      "\n",
      "\n",
      "upper_freq Analysis:\n",
      "            count      mean       std  min   25%    50%  75%    max\n",
      "strength                                                           \n",
      "0         13622.0  0.012872  0.094251  0.0  0.00  0.000  0.0  1.000\n",
      "1         73883.0  0.007915  0.069849  0.0  0.00  0.000  0.0  0.923\n",
      "2         12495.0  0.367633  0.195531  0.0  0.25  0.429  0.5  0.889\n",
      "\n",
      "\n",
      "digit_freq Analysis:\n",
      "            count      mean       std  min    25%    50%    75%    max\n",
      "strength                                                              \n",
      "0         13622.0  0.275383  0.153185  0.0  0.143  0.286  0.333  1.000\n",
      "1         73883.0  0.360123  0.205198  0.0  0.222  0.333  0.444  0.923\n",
      "2         12495.0  0.193796  0.121075  0.0  0.125  0.188  0.250  0.895\n",
      "\n",
      "\n",
      "special_char_freq Analysis:\n",
      "            count      mean       std  min  25%  50%  75%    max\n",
      "strength                                                        \n",
      "0         13622.0  0.003195  0.032435  0.0  0.0  0.0  0.0  1.000\n",
      "1         73883.0  0.001729  0.019866  0.0  0.0  0.0  0.0  0.818\n",
      "2         12495.0  0.013602  0.043298  0.0  0.0  0.0  0.0  0.741\n",
      "\n",
      "\n"
     ]
    }
   ],
   "source": [
    "for col in new_features:\n",
    "    print(f'{col} Analysis:')\n",
    "    print(df.groupby('strength')[col].describe())\n",
    "    print('\\n')"
   ]
  },
  {
   "cell_type": "code",
   "execution_count": 114,
   "metadata": {},
   "outputs": [
    {
     "data": {
      "text/plain": [
       "<Axes: xlabel='strength', ylabel='special_char_freq'>"
      ]
     },
     "execution_count": 114,
     "metadata": {},
     "output_type": "execute_result"
    },
    {
     "data": {
      "image/png": "[encoded data removed]",
      "text/plain": [
       "<Figure size 1500x700 with 6 Axes>"
      ]
     },
     "metadata": {},
     "output_type": "display_data"
    }
   ],
   "source": [
    "fig, ((ax1,ax2),(ax3,ax4),(ax5,ax6)) = plt.subplots(3, 2, figsize=(15,7))\n",
    "plt.subplots_adjust(hspace=0.8)\n",
    "\n",
    "sns.boxplot(x='strength',y='length', hue='strength', ax=ax1, data=df)\n",
    "sns.boxplot(x='strength',y='lower_freq', hue='strength', ax=ax2, data=df)\n",
    "sns.boxplot(x='strength',y='upper_freq', hue='strength', ax=ax3, data=df)\n",
    "sns.boxplot(x='strength',y='digit_freq', hue='strength', ax=ax4, data=df)\n",
    "sns.boxplot(x='strength',y='special_char_freq', hue='strength', ax=ax5, data=df)"
   ]
  },
  {
   "cell_type": "markdown",
   "metadata": {},
   "source": []
  },
  {
   "cell_type": "code",
   "execution_count": null,
   "metadata": {},
   "outputs": [],
   "source": []
  },
  {
   "cell_type": "code",
   "execution_count": null,
   "metadata": {},
   "outputs": [],
   "source": []
  }
 ],
 "metadata": {
  "kernelspec": {
   "display_name": "Python 3",
   "language": "python",
   "name": "python3"
  },
  "language_info": {
   "codemirror_mode": {
    "name": "ipython",
    "version": 3
   },
   "file_extension": ".py",
   "mimetype": "text/x-python",
   "name": "python",
   "nbconvert_exporter": "python",
   "pygments_lexer": "ipython3",
   "version": "3.11.5"
  }
 },
 "nbformat": 4,
 "nbformat_minor": 2
}
